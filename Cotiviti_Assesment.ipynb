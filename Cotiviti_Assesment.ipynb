{
 "cells": [
  {
   "cell_type": "markdown",
   "id": "6349dbcb",
   "metadata": {},
   "source": [
    "# Cotiviti Assesment\n",
    "Built by Blake Hamm <br>\n",
    "4 August 2021"
   ]
  },
  {
   "cell_type": "code",
   "execution_count": 5,
   "id": "2f066893",
   "metadata": {},
   "outputs": [],
   "source": [
    "## Load Packages\n",
    "import pandas as pd\n",
    "import numpy as np"
   ]
  },
  {
   "cell_type": "code",
   "execution_count": 8,
   "id": "7520e4da",
   "metadata": {},
   "outputs": [],
   "source": [
    "# Load Data\n",
    "df = pd.read_csv(\"/home/blakejhamm/Documents/Jobs/cotiviti_test/ASSESSMENT_DATA.csv\", \n",
    "                 usecols = ['X','Y'])"
   ]
  },
  {
   "cell_type": "markdown",
   "id": "129a54d1",
   "metadata": {},
   "source": [
    "## Exploratory Data Analysis\n",
    "This section explores the given data focusing on the distribution and potential outliers."
   ]
  },
  {
   "cell_type": "code",
   "execution_count": 9,
   "id": "81a1a46e",
   "metadata": {},
   "outputs": [
    {
     "data": {
      "text/html": [
       "<div>\n",
       "<style scoped>\n",
       "    .dataframe tbody tr th:only-of-type {\n",
       "        vertical-align: middle;\n",
       "    }\n",
       "\n",
       "    .dataframe tbody tr th {\n",
       "        vertical-align: top;\n",
       "    }\n",
       "\n",
       "    .dataframe thead th {\n",
       "        text-align: right;\n",
       "    }\n",
       "</style>\n",
       "<table border=\"1\" class=\"dataframe\">\n",
       "  <thead>\n",
       "    <tr style=\"text-align: right;\">\n",
       "      <th></th>\n",
       "      <th>X</th>\n",
       "      <th>Y</th>\n",
       "    </tr>\n",
       "  </thead>\n",
       "  <tbody>\n",
       "    <tr>\n",
       "      <th>0</th>\n",
       "      <td>0.113169</td>\n",
       "      <td>-0.267085</td>\n",
       "    </tr>\n",
       "    <tr>\n",
       "      <th>1</th>\n",
       "      <td>3.301015</td>\n",
       "      <td>12.945851</td>\n",
       "    </tr>\n",
       "    <tr>\n",
       "      <th>2</th>\n",
       "      <td>3.999341</td>\n",
       "      <td>16.419243</td>\n",
       "    </tr>\n",
       "    <tr>\n",
       "      <th>3</th>\n",
       "      <td>3.288918</td>\n",
       "      <td>6.950318</td>\n",
       "    </tr>\n",
       "    <tr>\n",
       "      <th>4</th>\n",
       "      <td>2.760255</td>\n",
       "      <td>-4.311010</td>\n",
       "    </tr>\n",
       "  </tbody>\n",
       "</table>\n",
       "</div>"
      ],
      "text/plain": [
       "          X          Y\n",
       "0  0.113169  -0.267085\n",
       "1  3.301015  12.945851\n",
       "2  3.999341  16.419243\n",
       "3  3.288918   6.950318\n",
       "4  2.760255  -4.311010"
      ]
     },
     "metadata": {},
     "output_type": "display_data"
    },
    {
     "name": "stdout",
     "output_type": "stream",
     "text": [
      "(500, 2)\n",
      "Index(['X', 'Y'], dtype='object')\n"
     ]
    }
   ],
   "source": [
    "# View data\n",
    "display(df.head())\n",
    "print(df.shape)\n",
    "print(df.columns)"
   ]
  },
  {
   "cell_type": "code",
   "execution_count": null,
   "id": "377df5cd",
   "metadata": {},
   "outputs": [],
   "source": []
  }
 ],
 "metadata": {
  "kernelspec": {
   "display_name": "Python (cotiviti)",
   "language": "python",
   "name": "cotiviti_test"
  },
  "language_info": {
   "codemirror_mode": {
    "name": "ipython",
    "version": 3
   },
   "file_extension": ".py",
   "mimetype": "text/x-python",
   "name": "python",
   "nbconvert_exporter": "python",
   "pygments_lexer": "ipython3",
   "version": "3.9.6"
  }
 },
 "nbformat": 4,
 "nbformat_minor": 5
}
